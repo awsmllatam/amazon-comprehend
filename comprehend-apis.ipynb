{
 "cells": [
  {
   "cell_type": "markdown",
   "id": "9de55adb",
   "metadata": {},
   "source": [
    "# Trabajando con APIs preentrenadas en Amazon Comprehend"
   ]
  },
  {
   "cell_type": "markdown",
   "id": "966b5a09",
   "metadata": {},
   "source": [
    "## Configuracion inicial"
   ]
  },
  {
   "cell_type": "code",
   "execution_count": null,
   "id": "c057b46e",
   "metadata": {},
   "outputs": [],
   "source": [
    "import boto3\n",
    "import json\n",
    "import pandas as pd\n",
    "import numpy as np\n",
    "import sagemaker\n",
    "from sagemaker import get_execution_role"
   ]
  },
  {
   "cell_type": "code",
   "execution_count": null,
   "id": "b3d2cba2",
   "metadata": {},
   "outputs": [],
   "source": [
    "role = get_execution_role()\n",
    "region = boto3.Session().region_name"
   ]
  },
  {
   "cell_type": "markdown",
   "id": "9921d111",
   "metadata": {},
   "source": [
    "## Iniciamos el cliente de comprehend"
   ]
  },
  {
   "cell_type": "code",
   "execution_count": null,
   "id": "6e8adf03",
   "metadata": {},
   "outputs": [],
   "source": [
    "comprehend = boto3.client(service_name='comprehend', region_name=region)"
   ]
  },
  {
   "cell_type": "markdown",
   "id": "a5b6dce6",
   "metadata": {},
   "source": [
    "### Texto de ejemplo"
   ]
  },
  {
   "cell_type": "code",
   "execution_count": null,
   "id": "dd5d2691",
   "metadata": {},
   "outputs": [],
   "source": [
    "sample_text = '''\n",
    "Hello Zhang Wei. Your AnyCompany Financial Services, LLC credit card account 1111-0000-1111-0000 has a minimum payment of $24.53 that is due by July 31st. Based on your autopay settings, we will withdraw your payment on the due date from your bank account XXXXXX1111 with the routing number XXXXX0000. \n",
    "Your latest statement was mailed to 100 Main Street, Anytown, WA 98121. \n",
    "After your payment is received, you will receive a confirmation text message at 206-555-0100. \n",
    "If you have questions about your bill, AnyCompany Customer Service is available by phone at 206-555-0199 or email at support@anycompany.com.\n",
    "'''"
   ]
  },
  {
   "cell_type": "markdown",
   "id": "b056cf9d",
   "metadata": {},
   "source": [
    "## 1- Identificando el nombre de entidades"
   ]
  },
  {
   "cell_type": "code",
   "execution_count": null,
   "id": "3409fa86",
   "metadata": {},
   "outputs": [],
   "source": [
    "detected_entities = comprehend.detect_entities(Text=sample_text, LanguageCode='en')\n",
    "print(json.dumps(detected_entities, sort_keys=True, indent=4))"
   ]
  },
  {
   "cell_type": "markdown",
   "id": "7b2e6328",
   "metadata": {},
   "source": [
    "### En formato legible"
   ]
  },
  {
   "cell_type": "code",
   "execution_count": null,
   "id": "c3ed211b",
   "metadata": {},
   "outputs": [],
   "source": [
    "detectec_entities_df = pd.DataFrame([ [entity['Text'], entity['Type'], entity['Score']] for entity in detected_entities['Entities']],\n",
    "                columns=['Text', 'Type', 'Score'])\n",
    "\n",
    "print('Texto Analizado:')\n",
    "print(sample_text)\n",
    "print('Resultado:')\n",
    "display (detectec_entities_df)"
   ]
  },
  {
   "cell_type": "markdown",
   "id": "5d330304",
   "metadata": {},
   "source": [
    "## 2- Deteccion de frases clave"
   ]
  },
  {
   "cell_type": "code",
   "execution_count": null,
   "id": "a503fd11",
   "metadata": {},
   "outputs": [],
   "source": [
    "detected_key_phrases = comprehend.detect_key_phrases(Text=sample_text, LanguageCode='en')\n",
    "print(json.dumps(detected_key_phrases, sort_keys=True, indent=4))"
   ]
  },
  {
   "cell_type": "markdown",
   "id": "c9c5341e",
   "metadata": {},
   "source": [
    "### En formato legible"
   ]
  },
  {
   "cell_type": "code",
   "execution_count": null,
   "id": "b509d504",
   "metadata": {},
   "outputs": [],
   "source": [
    "detected_key_phrases_df = pd.DataFrame([ [entity['Text'], entity['Score']] for entity in detected_key_phrases['KeyPhrases']],\n",
    "                columns=['Text', 'Score'])\n",
    "\n",
    "print('Texto Analizado')\n",
    "print(sample_text)\n",
    "print('Resultado')\n",
    "display (detected_key_phrases_df)"
   ]
  },
  {
   "cell_type": "markdown",
   "id": "3149c3e3",
   "metadata": {},
   "source": [
    "## 3- Identificacion del lenguaje dominante"
   ]
  },
  {
   "cell_type": "code",
   "execution_count": null,
   "id": "e25cac52",
   "metadata": {},
   "outputs": [],
   "source": [
    "detected_language = comprehend.detect_dominant_language(Text=sample_text)\n",
    "print(json.dumps(detected_language, sort_keys=True, indent=4))"
   ]
  },
  {
   "cell_type": "markdown",
   "id": "a31b3b56",
   "metadata": {},
   "source": [
    "### En formato legible"
   ]
  },
  {
   "cell_type": "code",
   "execution_count": null,
   "id": "865da664",
   "metadata": {},
   "outputs": [],
   "source": [
    "detected_language_df = pd.DataFrame([ [code['LanguageCode'], code['Score']] for code in detected_language['Languages']],\n",
    "                columns=['Language Code', 'Score'])\n",
    "\n",
    "print('Texto analizado:')\n",
    "print(sample_text)\n",
    "print('Resultado:')\n",
    "display (detected_language_df)"
   ]
  },
  {
   "cell_type": "markdown",
   "id": "286ddd35",
   "metadata": {},
   "source": [
    "## 4- Determinación del sentimiento emocional"
   ]
  },
  {
   "cell_type": "code",
   "execution_count": null,
   "id": "fdcc2944",
   "metadata": {},
   "outputs": [],
   "source": [
    "detected_sentiment = comprehend.detect_sentiment(Text=sample_text, LanguageCode='en')\n",
    "print(json.dumps(detected_sentiment, sort_keys=True, indent=4))"
   ]
  },
  {
   "cell_type": "markdown",
   "id": "46169772",
   "metadata": {},
   "source": [
    "### En formato legible"
   ]
  },
  {
   "cell_type": "code",
   "execution_count": null,
   "id": "15b81c0b",
   "metadata": {},
   "outputs": [],
   "source": [
    "predominant_sentiment = detected_sentiment['Sentiment']\n",
    "detected_sentiments_df = pd.DataFrame([ [sentiment, detected_sentiment['SentimentScore'][sentiment]] for sentiment in detected_sentiment['SentimentScore']],\n",
    "                columns=['Language Code', 'Score'])\n",
    "\n",
    "print('Texto Analizado:')\n",
    "print(sample_text)\n",
    "print()\n",
    "print('El sentimiento predominanate es {}.'.format(predominant_sentiment))\n",
    "print()\n",
    "display (detected_sentiments_df)"
   ]
  },
  {
   "cell_type": "markdown",
   "id": "0ce69bce",
   "metadata": {},
   "source": [
    "## 5- Determinación de la sintaxis"
   ]
  },
  {
   "cell_type": "code",
   "execution_count": null,
   "id": "2d3b6323",
   "metadata": {},
   "outputs": [],
   "source": [
    "detected_syntax = comprehend.detect_syntax(Text=sample_text, LanguageCode='en')\n",
    "print(json.dumps(detected_syntax, sort_keys=True, indent=4))"
   ]
  },
  {
   "cell_type": "markdown",
   "id": "bf07c808",
   "metadata": {},
   "source": [
    "### En formato legible"
   ]
  },
  {
   "cell_type": "code",
   "execution_count": null,
   "id": "da5f5f9b",
   "metadata": {},
   "outputs": [],
   "source": [
    "detected_syntax_df = pd.DataFrame([ [part['Text'], part['PartOfSpeech']['Tag'], part['PartOfSpeech']['Score']] for part in detected_syntax['SyntaxTokens']],\n",
    "                columns=['Text', 'Part Of Speech', 'Score'])\n",
    "\n",
    "print('Texto analizado:')\n",
    "print(sample_text)\n",
    "print()\n",
    "print('Primeros 20 tokens:')\n",
    "display (detected_syntax_df.head(20))"
   ]
  },
  {
   "cell_type": "markdown",
   "id": "bf266d39",
   "metadata": {},
   "source": [
    "## 6- Detección de información de identificación personal (PII)"
   ]
  },
  {
   "cell_type": "code",
   "execution_count": null,
   "id": "4dd624ab",
   "metadata": {},
   "outputs": [],
   "source": [
    "detected_pii_entities = comprehend.detect_pii_entities(Text=sample_text, LanguageCode='en')\n",
    "print(json.dumps(detected_pii_entities, sort_keys=True, indent=4))"
   ]
  },
  {
   "cell_type": "markdown",
   "id": "8dab33b8",
   "metadata": {},
   "source": [
    "### En formato legible"
   ]
  },
  {
   "cell_type": "code",
   "execution_count": null,
   "id": "8950d965",
   "metadata": {},
   "outputs": [],
   "source": [
    "detected_pii_entities_df = pd.DataFrame([ [entity['Type'], entity['Score']] for entity in detected_pii_entities['Entities']],\n",
    "                columns=['Type', 'Score'])\n",
    "\n",
    "print('Texto analizado:')\n",
    "print(sample_text)\n",
    "print('Resultado')\n",
    "display (detected_pii_entities_df)"
   ]
  },
  {
   "cell_type": "markdown",
   "id": "f2800b8f",
   "metadata": {},
   "source": [
    "## 7- Label text documents with PII"
   ]
  },
  {
   "cell_type": "code",
   "execution_count": null,
   "id": "6f61e9bb",
   "metadata": {},
   "outputs": [],
   "source": [
    "detected_pii_labels = comprehend.contains_pii_entities(Text=sample_text, LanguageCode='en')\n",
    "print(json.dumps(detected_pii_labels, sort_keys=True, indent=4))"
   ]
  },
  {
   "cell_type": "markdown",
   "id": "7450b02f",
   "metadata": {},
   "source": [
    "### En formato legible"
   ]
  },
  {
   "cell_type": "code",
   "execution_count": null,
   "id": "20e4ccd0",
   "metadata": {},
   "outputs": [],
   "source": [
    "detected_pii_labels_df = pd.DataFrame([ [entity['Name'], entity['Score']] for entity in detected_pii_labels['Labels']],\n",
    "                columns=['Name', 'Score'])\n",
    "\n",
    "print('Texto analizado:')\n",
    "print(sample_text)\n",
    "print('Resultado')\n",
    "display (detected_pii_labels_df)"
   ]
  },
  {
   "cell_type": "code",
   "execution_count": null,
   "id": "155a89a3",
   "metadata": {},
   "outputs": [],
   "source": []
  }
 ],
 "metadata": {
  "kernelspec": {
   "display_name": "conda_python3",
   "language": "python",
   "name": "conda_python3"
  },
  "language_info": {
   "codemirror_mode": {
    "name": "ipython",
    "version": 3
   },
   "file_extension": ".py",
   "mimetype": "text/x-python",
   "name": "python",
   "nbconvert_exporter": "python",
   "pygments_lexer": "ipython3",
   "version": "3.6.13"
  }
 },
 "nbformat": 4,
 "nbformat_minor": 5
}
